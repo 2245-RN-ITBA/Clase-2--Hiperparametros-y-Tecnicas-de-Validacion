{
 "cells": [
  {
   "cell_type": "markdown",
   "metadata": {},
   "source": [
    "**<center> CLASIFICACIÓN DE LESIONES DERMATOLÓGICAS </center>**"
   ]
  },
  {
   "cell_type": "markdown",
   "metadata": {},
   "source": [
    "**Descripción del dataset**\n",
    "\n",
    "Utilizaremos un [dataset público](https://archive.ics.uci.edu/ml/datasets/Dermatology) de la Universidad de California Irvine. \n",
    "El diagnóstico diferencial de patologías eritemato-escamosas es un problema en dermatología. Todas ellas comparten los atributos clínicos del eritema y la piel escamosa, con muy pocas diferencias. Las patologías de este grupo son psoriasis, dermatitis seborreica, liquen plano, pitiriasis rosada, dermatitis crónica, y  pitiriasis rubra pilaris. Generalmente se necesita una biopsia para el diagnóstico, pero lamentablemente estas patologías comparten también muchos atributos histopatológicos."
   ]
  },
  {
   "cell_type": "code",
   "execution_count": 2,
   "metadata": {},
   "outputs": [],
   "source": [
    "pathology_names = (\"psoriasis\", \"seboreic dermatitis\", \"lichen planus\", \"pityriasis rosea\", \"cronic dermatitis\", \"pityriasis rubra pilaris\") "
   ]
  },
  {
   "cell_type": "markdown",
   "metadata": {},
   "source": [
    "La biopsia consiste en analizar bajo microscopio una muestra de piel y evaluar una serie de atributos. Estos se tabulan en una escala entre el 0 y el 3, según el grado en que se observa el atributo."
   ]
  },
  {
   "cell_type": "code",
   "execution_count": 3,
   "metadata": {},
   "outputs": [],
   "source": [
    "histological_variables= [\"melanin incontinence\"\n",
    "        , \"eosinophils in the infiltrate\"\n",
    "        , \"PNL infiltrate\"\n",
    "        , \"fibrosis of the papillary dermis\"\n",
    "        , \"exocytosis\"\n",
    "        , \"acanthosis\"\n",
    "        , \"hyperkeratosis\"\n",
    "        , \"parakeratosis\"\n",
    "        , \"clubbing of the rete ridges\"\n",
    "        , \"elongation of the rete ridges\"\n",
    "        , \"thinning of the suprapapillary epidermis\"\n",
    "        , \"spongiform pustule\"\n",
    "        , \"munro microabcess\"\n",
    "        , \"focal hypergranulosis\"\n",
    "        , \"disappearance of the granular layer\"\n",
    "        , \"vacuolisation and damage of basal layer\"\n",
    "        , \"spongiosis\"\n",
    "        ,\"saw-tooth appearance of retes\"\n",
    "        ,\"follicular horn plug\"\n",
    "        ,\"perifollicular parakeratosis\"\n",
    "        ,\"inflammatory monoluclear inflitrate\"\n",
    "        ,\"band-like infiltrate\"]"
   ]
  },
  {
   "cell_type": "markdown",
   "metadata": {},
   "source": [
    "También se tienen en cuenta factores clínicos. Estos también se tabulan en un rango de 0 a 3."
   ]
  },
  {
   "cell_type": "code",
   "execution_count": 4,
   "metadata": {},
   "outputs": [],
   "source": [
    "clinical_variables = [\"erythema\"\n",
    "        , \"scaling\"\n",
    "        , \"definite borders\"\n",
    "        , \"itching\"\n",
    "        , \"koebner phenomenon\"\n",
    "        , \"polygonal papules\"\n",
    "        , \"follicular papules\"\n",
    "        , \"oral mucosal involvement\"\n",
    "        , \"knee and elbow involvement\"\n",
    "        , \"scalp involvement\"\n",
    "        , \"family history\"]"
   ]
  },
  {
   "cell_type": "markdown",
   "metadata": {},
   "source": [
    "Por último, se considera también la edad del paciente. Podemos considerar esta variable como continua"
   ]
  },
  {
   "cell_type": "code",
   "execution_count": 5,
   "metadata": {},
   "outputs": [],
   "source": [
    "variable_names = clinical_variables + histological_variables\n",
    "variable_names.append(\"Age\")\n"
   ]
  },
  {
   "cell_type": "markdown",
   "metadata": {},
   "source": [
    "**Procesamiento del dataset**\n",
    "\n",
    "El dataset consiste de 366 casos donde se tabularon los datos clínicos del paciente y los atributos histopatológicos de la lesión.\n",
    "Si tenés el repositorio clonado localmente, especificá la ruta al archivo \"data_dermatology.csv\". Sino, descargá el archivo \"data_dermatology.csv\" del repositorio y especificá la ruta al archivo descargado."
   ]
  },
  {
   "cell_type": "code",
   "execution_count": 8,
   "metadata": {},
   "outputs": [],
   "source": [
    "csvpath = \"C:/Users/Candelaria/Downloads/data_dermatology.csv\""
   ]
  },
  {
   "cell_type": "code",
   "execution_count": 7,
   "metadata": {},
   "outputs": [
    {
     "ename": "FileNotFoundError",
     "evalue": "[Errno 2] File b'C:/Users/UsuarioHi/Downloads/data_dermatology.csv' does not exist: b'C:/Users/UsuarioHi/Downloads/data_dermatology.csv'",
     "output_type": "error",
     "traceback": [
      "\u001b[1;31m---------------------------------------------------------------------------\u001b[0m",
      "\u001b[1;31mFileNotFoundError\u001b[0m                         Traceback (most recent call last)",
      "\u001b[1;32m<ipython-input-7-e7ce845b227c>\u001b[0m in \u001b[0;36m<module>\u001b[1;34m\u001b[0m\n\u001b[0;32m      1\u001b[0m \u001b[1;32mimport\u001b[0m \u001b[0mpandas\u001b[0m \u001b[1;32mas\u001b[0m \u001b[0mpd\u001b[0m\u001b[1;33m\u001b[0m\u001b[1;33m\u001b[0m\u001b[0m\n\u001b[0;32m      2\u001b[0m \u001b[1;32mimport\u001b[0m \u001b[0mnumpy\u001b[0m \u001b[1;32mas\u001b[0m \u001b[0mnp\u001b[0m\u001b[1;33m\u001b[0m\u001b[1;33m\u001b[0m\u001b[0m\n\u001b[1;32m----> 3\u001b[1;33m \u001b[0mdataframe\u001b[0m \u001b[1;33m=\u001b[0m \u001b[0mpd\u001b[0m\u001b[1;33m.\u001b[0m\u001b[0mread_csv\u001b[0m\u001b[1;33m(\u001b[0m\u001b[0mcsvpath\u001b[0m\u001b[1;33m,\u001b[0m\u001b[0mindex_col\u001b[0m\u001b[1;33m=\u001b[0m\u001b[1;32mFalse\u001b[0m\u001b[1;33m)\u001b[0m\u001b[1;33m\u001b[0m\u001b[1;33m\u001b[0m\u001b[0m\n\u001b[0m",
      "\u001b[1;32m~\\AppData\\Local\\conda\\conda\\envs\\redesitba\\lib\\site-packages\\pandas\\io\\parsers.py\u001b[0m in \u001b[0;36mparser_f\u001b[1;34m(filepath_or_buffer, sep, delimiter, header, names, index_col, usecols, squeeze, prefix, mangle_dupe_cols, dtype, engine, converters, true_values, false_values, skipinitialspace, skiprows, skipfooter, nrows, na_values, keep_default_na, na_filter, verbose, skip_blank_lines, parse_dates, infer_datetime_format, keep_date_col, date_parser, dayfirst, iterator, chunksize, compression, thousands, decimal, lineterminator, quotechar, quoting, doublequote, escapechar, comment, encoding, dialect, tupleize_cols, error_bad_lines, warn_bad_lines, delim_whitespace, low_memory, memory_map, float_precision)\u001b[0m\n\u001b[0;32m    700\u001b[0m                     skip_blank_lines=skip_blank_lines)\n\u001b[0;32m    701\u001b[0m \u001b[1;33m\u001b[0m\u001b[0m\n\u001b[1;32m--> 702\u001b[1;33m         \u001b[1;32mreturn\u001b[0m \u001b[0m_read\u001b[0m\u001b[1;33m(\u001b[0m\u001b[0mfilepath_or_buffer\u001b[0m\u001b[1;33m,\u001b[0m \u001b[0mkwds\u001b[0m\u001b[1;33m)\u001b[0m\u001b[1;33m\u001b[0m\u001b[1;33m\u001b[0m\u001b[0m\n\u001b[0m\u001b[0;32m    703\u001b[0m \u001b[1;33m\u001b[0m\u001b[0m\n\u001b[0;32m    704\u001b[0m     \u001b[0mparser_f\u001b[0m\u001b[1;33m.\u001b[0m\u001b[0m__name__\u001b[0m \u001b[1;33m=\u001b[0m \u001b[0mname\u001b[0m\u001b[1;33m\u001b[0m\u001b[1;33m\u001b[0m\u001b[0m\n",
      "\u001b[1;32m~\\AppData\\Local\\conda\\conda\\envs\\redesitba\\lib\\site-packages\\pandas\\io\\parsers.py\u001b[0m in \u001b[0;36m_read\u001b[1;34m(filepath_or_buffer, kwds)\u001b[0m\n\u001b[0;32m    427\u001b[0m \u001b[1;33m\u001b[0m\u001b[0m\n\u001b[0;32m    428\u001b[0m     \u001b[1;31m# Create the parser.\u001b[0m\u001b[1;33m\u001b[0m\u001b[1;33m\u001b[0m\u001b[1;33m\u001b[0m\u001b[0m\n\u001b[1;32m--> 429\u001b[1;33m     \u001b[0mparser\u001b[0m \u001b[1;33m=\u001b[0m \u001b[0mTextFileReader\u001b[0m\u001b[1;33m(\u001b[0m\u001b[0mfilepath_or_buffer\u001b[0m\u001b[1;33m,\u001b[0m \u001b[1;33m**\u001b[0m\u001b[0mkwds\u001b[0m\u001b[1;33m)\u001b[0m\u001b[1;33m\u001b[0m\u001b[1;33m\u001b[0m\u001b[0m\n\u001b[0m\u001b[0;32m    430\u001b[0m \u001b[1;33m\u001b[0m\u001b[0m\n\u001b[0;32m    431\u001b[0m     \u001b[1;32mif\u001b[0m \u001b[0mchunksize\u001b[0m \u001b[1;32mor\u001b[0m \u001b[0miterator\u001b[0m\u001b[1;33m:\u001b[0m\u001b[1;33m\u001b[0m\u001b[1;33m\u001b[0m\u001b[0m\n",
      "\u001b[1;32m~\\AppData\\Local\\conda\\conda\\envs\\redesitba\\lib\\site-packages\\pandas\\io\\parsers.py\u001b[0m in \u001b[0;36m__init__\u001b[1;34m(self, f, engine, **kwds)\u001b[0m\n\u001b[0;32m    893\u001b[0m             \u001b[0mself\u001b[0m\u001b[1;33m.\u001b[0m\u001b[0moptions\u001b[0m\u001b[1;33m[\u001b[0m\u001b[1;34m'has_index_names'\u001b[0m\u001b[1;33m]\u001b[0m \u001b[1;33m=\u001b[0m \u001b[0mkwds\u001b[0m\u001b[1;33m[\u001b[0m\u001b[1;34m'has_index_names'\u001b[0m\u001b[1;33m]\u001b[0m\u001b[1;33m\u001b[0m\u001b[1;33m\u001b[0m\u001b[0m\n\u001b[0;32m    894\u001b[0m \u001b[1;33m\u001b[0m\u001b[0m\n\u001b[1;32m--> 895\u001b[1;33m         \u001b[0mself\u001b[0m\u001b[1;33m.\u001b[0m\u001b[0m_make_engine\u001b[0m\u001b[1;33m(\u001b[0m\u001b[0mself\u001b[0m\u001b[1;33m.\u001b[0m\u001b[0mengine\u001b[0m\u001b[1;33m)\u001b[0m\u001b[1;33m\u001b[0m\u001b[1;33m\u001b[0m\u001b[0m\n\u001b[0m\u001b[0;32m    896\u001b[0m \u001b[1;33m\u001b[0m\u001b[0m\n\u001b[0;32m    897\u001b[0m     \u001b[1;32mdef\u001b[0m \u001b[0mclose\u001b[0m\u001b[1;33m(\u001b[0m\u001b[0mself\u001b[0m\u001b[1;33m)\u001b[0m\u001b[1;33m:\u001b[0m\u001b[1;33m\u001b[0m\u001b[1;33m\u001b[0m\u001b[0m\n",
      "\u001b[1;32m~\\AppData\\Local\\conda\\conda\\envs\\redesitba\\lib\\site-packages\\pandas\\io\\parsers.py\u001b[0m in \u001b[0;36m_make_engine\u001b[1;34m(self, engine)\u001b[0m\n\u001b[0;32m   1120\u001b[0m     \u001b[1;32mdef\u001b[0m \u001b[0m_make_engine\u001b[0m\u001b[1;33m(\u001b[0m\u001b[0mself\u001b[0m\u001b[1;33m,\u001b[0m \u001b[0mengine\u001b[0m\u001b[1;33m=\u001b[0m\u001b[1;34m'c'\u001b[0m\u001b[1;33m)\u001b[0m\u001b[1;33m:\u001b[0m\u001b[1;33m\u001b[0m\u001b[1;33m\u001b[0m\u001b[0m\n\u001b[0;32m   1121\u001b[0m         \u001b[1;32mif\u001b[0m \u001b[0mengine\u001b[0m \u001b[1;33m==\u001b[0m \u001b[1;34m'c'\u001b[0m\u001b[1;33m:\u001b[0m\u001b[1;33m\u001b[0m\u001b[1;33m\u001b[0m\u001b[0m\n\u001b[1;32m-> 1122\u001b[1;33m             \u001b[0mself\u001b[0m\u001b[1;33m.\u001b[0m\u001b[0m_engine\u001b[0m \u001b[1;33m=\u001b[0m \u001b[0mCParserWrapper\u001b[0m\u001b[1;33m(\u001b[0m\u001b[0mself\u001b[0m\u001b[1;33m.\u001b[0m\u001b[0mf\u001b[0m\u001b[1;33m,\u001b[0m \u001b[1;33m**\u001b[0m\u001b[0mself\u001b[0m\u001b[1;33m.\u001b[0m\u001b[0moptions\u001b[0m\u001b[1;33m)\u001b[0m\u001b[1;33m\u001b[0m\u001b[1;33m\u001b[0m\u001b[0m\n\u001b[0m\u001b[0;32m   1123\u001b[0m         \u001b[1;32melse\u001b[0m\u001b[1;33m:\u001b[0m\u001b[1;33m\u001b[0m\u001b[1;33m\u001b[0m\u001b[0m\n\u001b[0;32m   1124\u001b[0m             \u001b[1;32mif\u001b[0m \u001b[0mengine\u001b[0m \u001b[1;33m==\u001b[0m \u001b[1;34m'python'\u001b[0m\u001b[1;33m:\u001b[0m\u001b[1;33m\u001b[0m\u001b[1;33m\u001b[0m\u001b[0m\n",
      "\u001b[1;32m~\\AppData\\Local\\conda\\conda\\envs\\redesitba\\lib\\site-packages\\pandas\\io\\parsers.py\u001b[0m in \u001b[0;36m__init__\u001b[1;34m(self, src, **kwds)\u001b[0m\n\u001b[0;32m   1851\u001b[0m         \u001b[0mkwds\u001b[0m\u001b[1;33m[\u001b[0m\u001b[1;34m'usecols'\u001b[0m\u001b[1;33m]\u001b[0m \u001b[1;33m=\u001b[0m \u001b[0mself\u001b[0m\u001b[1;33m.\u001b[0m\u001b[0musecols\u001b[0m\u001b[1;33m\u001b[0m\u001b[1;33m\u001b[0m\u001b[0m\n\u001b[0;32m   1852\u001b[0m \u001b[1;33m\u001b[0m\u001b[0m\n\u001b[1;32m-> 1853\u001b[1;33m         \u001b[0mself\u001b[0m\u001b[1;33m.\u001b[0m\u001b[0m_reader\u001b[0m \u001b[1;33m=\u001b[0m \u001b[0mparsers\u001b[0m\u001b[1;33m.\u001b[0m\u001b[0mTextReader\u001b[0m\u001b[1;33m(\u001b[0m\u001b[0msrc\u001b[0m\u001b[1;33m,\u001b[0m \u001b[1;33m**\u001b[0m\u001b[0mkwds\u001b[0m\u001b[1;33m)\u001b[0m\u001b[1;33m\u001b[0m\u001b[1;33m\u001b[0m\u001b[0m\n\u001b[0m\u001b[0;32m   1854\u001b[0m         \u001b[0mself\u001b[0m\u001b[1;33m.\u001b[0m\u001b[0munnamed_cols\u001b[0m \u001b[1;33m=\u001b[0m \u001b[0mself\u001b[0m\u001b[1;33m.\u001b[0m\u001b[0m_reader\u001b[0m\u001b[1;33m.\u001b[0m\u001b[0munnamed_cols\u001b[0m\u001b[1;33m\u001b[0m\u001b[1;33m\u001b[0m\u001b[0m\n\u001b[0;32m   1855\u001b[0m \u001b[1;33m\u001b[0m\u001b[0m\n",
      "\u001b[1;32mpandas\\_libs\\parsers.pyx\u001b[0m in \u001b[0;36mpandas._libs.parsers.TextReader.__cinit__\u001b[1;34m()\u001b[0m\n",
      "\u001b[1;32mpandas\\_libs\\parsers.pyx\u001b[0m in \u001b[0;36mpandas._libs.parsers.TextReader._setup_parser_source\u001b[1;34m()\u001b[0m\n",
      "\u001b[1;31mFileNotFoundError\u001b[0m: [Errno 2] File b'C:/Users/UsuarioHi/Downloads/data_dermatology.csv' does not exist: b'C:/Users/UsuarioHi/Downloads/data_dermatology.csv'"
     ]
    }
   ],
   "source": [
    "import pandas as pd\n",
    "import numpy as np\n",
    "dataframe = pd.read_csv(csvpath,index_col=False)"
   ]
  },
  {
   "cell_type": "code",
   "execution_count": null,
   "metadata": {},
   "outputs": [],
   "source": [
    "dataframe.head()"
   ]
  },
  {
   "cell_type": "markdown",
   "metadata": {},
   "source": [
    "Obtener un numpy array con los valores de las 33 variables"
   ]
  },
  {
   "cell_type": "code",
   "execution_count": null,
   "metadata": {},
   "outputs": [],
   "source": [
    "data_variables = dataframe[dataframe.columns[:-2]].values #Selecciono las 33 variables clinicas e histológicas. Para convertirlo a array, uso .values\n",
    "print(\"Cantidad de pacientes: \", data_variables.shape[0])\n",
    "print(\"Cantidad de variables por paciente: \", data_variables.shape[1])\n"
   ]
  },
  {
   "cell_type": "markdown",
   "metadata": {},
   "source": [
    "Obtener un numpy array con los valores de las 366 etiquetas \"ground-truth\" del tipo de lesión."
   ]
  },
  {
   "cell_type": "code",
   "execution_count": null,
   "metadata": {},
   "outputs": [],
   "source": [
    "data_targets = dataframe[dataframe.columns[-1]].values\n",
    "print(\"Cantidad de etiquetas de diagnóstico: \", data_targets.shape[0])"
   ]
  },
  {
   "cell_type": "code",
   "execution_count": null,
   "metadata": {},
   "outputs": [],
   "source": [
    "data_targets #Seis valores para las seis patologías posibles"
   ]
  },
  {
   "cell_type": "markdown",
   "metadata": {},
   "source": [
    "¿Cuál es la probabilidad a priori de cada clase? "
   ]
  },
  {
   "cell_type": "code",
   "execution_count": 71,
   "metadata": {},
   "outputs": [
    {
     "data": {
      "text/plain": [
       "{'psoriasis': 0.30601092896174864,\n",
       " 'seboreic dermatitis': 0.16666666666666666,\n",
       " 'lichen planus': 0.19672131147540983,\n",
       " 'pityriasis rosea': 0.13387978142076504,\n",
       " 'cronic dermatitis': 0.14207650273224043,\n",
       " 'pityriasis rubra pilaris': 0.0546448087431694}"
      ]
     },
     "execution_count": 71,
     "metadata": {},
     "output_type": "execute_result"
    }
   ],
   "source": [
    "count_of_classes=np.bincount(data_targets)[1:]\n",
    "prob_apriori=count_of_classes/len(data_targets)\n",
    "apriori_dict=dict(zip(pathology_names,prob_apriori))\n",
    "apriori_dict\n"
   ]
  },
  {
   "cell_type": "markdown",
   "metadata": {},
   "source": [
    "**Naive Bayes Gaussiano**\n",
    "\n",
    "Hasta ahora trabajamos con Naive Bayes Multinomial, donde la probabilidad de observar un cierto valor de una variable para un determinado modelo generador se calcula contando la cantidad de ocurrencias del valor. Otro enfoque consiste en modelar la distribución de la variable como una distribución normal. En este caso, lo que se hace es calcular la media y el desvío estándar (en base a todas las observaciones de la variable que se tienen) y se calcula la probabilidad de observar un valor con la fórmula correspondiente para esa distribución normal:\n",
    "<center>\n",
    "X ~ $\\mathcal{N}(\\mu,\\,\\sigma^{2}) $\n",
    "<\\center>\n",
    "    \n",
    "    \n",
    "<center>\n",
    "$P(x) = \\frac{1}{\\sigma \\sqrt {2\\pi}}e^{\\frac{-(x-\\mu)^2}{2 * \\sigma^2}}$\n",
    "<\\center>"
   ]
  },
  {
   "cell_type": "code",
   "execution_count": 69,
   "metadata": {},
   "outputs": [
    {
     "name": "stdout",
     "output_type": "stream",
     "text": [
      "Media de itching por clase.\n"
     ]
    },
    {
     "data": {
      "text/plain": [
       "{'psoriasis': 0.9464285714285714,\n",
       " 'seboreic dermatitis': 1.6229508196721312,\n",
       " 'lichen planus': 2.2777777777777777,\n",
       " 'pityriasis rosea': 0.46938775510204084,\n",
       " 'cronic dermatitis': 1.8846153846153846,\n",
       " 'pityriasis rubra pilaris': 0.5}"
      ]
     },
     "execution_count": 69,
     "metadata": {},
     "output_type": "execute_result"
    }
   ],
   "source": [
    "variable_name = 'itching'\n",
    "variable_index=variable_names.index(variable_name)\n",
    "classes_means={}\n",
    "for i,clss in enumerate(pathology_names):\n",
    "    clss_mean = data_variables[data_targets==i+1,variable_index].mean(axis=0) \n",
    "    classes_means[clss]=clss_mean\n",
    "print(\"Media de \" + variable_name + \" por clase.\")\n",
    "classes_means"
   ]
  },
  {
   "cell_type": "code",
   "execution_count": 70,
   "metadata": {},
   "outputs": [
    {
     "name": "stdout",
     "output_type": "stream",
     "text": [
      "Media de itching por clase.\n"
     ]
    },
    {
     "data": {
      "text/plain": [
       "{'psoriasis': 1.1862934362934365,\n",
       " 'seboreic dermatitis': 0.905464480874317,\n",
       " 'lichen planus': 0.6259780907668232,\n",
       " 'pityriasis rosea': 0.5875850340136054,\n",
       " 'cronic dermatitis': 1.08446455505279,\n",
       " 'pityriasis rubra pilaris': 0.3684210526315789}"
      ]
     },
     "execution_count": 70,
     "metadata": {},
     "output_type": "execute_result"
    }
   ],
   "source": [
    "variable_name = 'itching'\n",
    "variable_index=variable_names.index(variable_name)\n",
    "classes_vars={}\n",
    "for i,clss in enumerate(pathology_names):\n",
    "    clss_var = data_variables[data_targets==i+1,variable_index].var(axis=0,ddof=1) \n",
    "    classes_vars[clss]=clss_var\n",
    "print(\"Media de \" + variable_name + \" por clase.\")\n",
    "classes_vars"
   ]
  },
  {
   "cell_type": "markdown",
   "metadata": {},
   "source": [
    "Para cada clase, podemos modelar una distribución normal de cada variable, a partir de la media y el desvío de esta variable en nuestra muestra. "
   ]
  },
  {
   "cell_type": "code",
   "execution_count": 78,
   "metadata": {},
   "outputs": [],
   "source": [
    "import matplotlib.pyplot as plt\n",
    "def gaussian(x, mu, sig):\n",
    "    return np.exp(-np.power((x - mu)/sig, 2.)/2)/(np.sqrt(2.*np.pi)*sig)\n",
    "\n",
    "def plot_gaussian(mu=0, sig= 1, points = 200, N = 2, marker=None, label = None, x = None, color = None, \n",
    "                  x_label='',y_label='',ax = None, figsize = (20,10), center_label_tick = None):\n",
    "    if ax is None:\n",
    "        f, ax = plt.subplots(1, 1, sharey=True, sharex=True, figsize = figsize)\n",
    "    if x is None:\n",
    "        x = np.linspace(mu-N*sig, mu+N*sig, points)\n",
    "    y = gaussian(x, mu, sig)\n",
    "    ax.plot(x,y, marker = marker, label = label, color = color)\n",
    "    ax.set_ylabel(y_label)\n",
    "    ax.set_xlabel(x_label)\n",
    "\n",
    "    if center_label_tick is not None:\n",
    "        labels = [item.get_text() for item in ax.get_xticklabels()]\n",
    "        labels[int((len(labels)-1)/2)] = center_label_tick\n",
    "        ax.set_xticklabels(labels)\n",
    "\n",
    "    return x, y"
   ]
  },
  {
   "cell_type": "markdown",
   "metadata": {},
   "source": [
    "Siguiendo con el ejemplo de la variable 'itching', graficamos las distribuciones normales de cada patología."
   ]
  },
  {
   "cell_type": "code",
   "execution_count": 88,
   "metadata": {},
   "outputs": [],
   "source": [
    "for key,value in classes_means.items():\n",
    "    f, axs = plt.subplots(1, 1, sharey=False, sharex=False, figsize = (10,6))\n",
    "    plot_gaussian(value, np.sqrt(classes_vars[key]), ax=axs, N=10, color='b', label=key)\n",
    "    axs.title.set_text('itching distribution for ' + key)\n",
    "    axs.legend()\n",
    "plt.show()"
   ]
  },
  {
   "cell_type": "markdown",
   "metadata": {},
   "source": [
    "¿Cuál es la probabilidad de que un paciente con pityriasis rubra pilaris presente un grado 0 de itching?\n",
    "\n",
    "\n",
    "$$P(\\frac{B_{itching}=0}{A=pityriasisrubrapilaris})$$\n"
   ]
  },
  {
   "cell_type": "code",
   "execution_count": 105,
   "metadata": {},
   "outputs": [
    {
     "name": "stdout",
     "output_type": "stream",
     "text": [
      "0.46815313154185856\n"
     ]
    }
   ],
   "source": [
    "prob_condicional=gaussian(0,classes_means['pityriasis rubra pilaris'],np.sqrt(classes_vars['pityriasis rubra pilaris']))\n",
    "print(prob_condicional)"
   ]
  },
  {
   "cell_type": "markdown",
   "metadata": {},
   "source": [
    "¿cuál es el likelihood de esta observación?\n",
    "\n",
    "$$P(\\frac{B_{itching}=0}{A=pityriasisrubrapilaris}) * P(A=pityriasisrubrapilaris)$$"
   ]
  },
  {
   "cell_type": "code",
   "execution_count": 106,
   "metadata": {},
   "outputs": [
    {
     "name": "stdout",
     "output_type": "stream",
     "text": [
      "0.025582138335620685\n"
     ]
    }
   ],
   "source": [
    "likelihood=apriori_dict['pityriasis rubra pilaris']*prob_condicional\n",
    "print(likelihood)"
   ]
  },
  {
   "cell_type": "markdown",
   "metadata": {},
   "source": [
    "¿Cuál es la probabilidad de que un paciente con **lichen planus** presente un grado 2 de **parakeratosis**? Tendrás que calcular la media y el desvío estándar de la parakeratosis para cada patología, como hicimos con itching"
   ]
  },
  {
   "cell_type": "code",
   "execution_count": null,
   "metadata": {},
   "outputs": [],
   "source": [
    "[....te toca implementar]"
   ]
  },
  {
   "cell_type": "markdown",
   "metadata": {},
   "source": [
    "Para simplificación, tomaremos únicamente tres variables. Se tiene el siguiente resultado de análisis clínico e histológico para estas tres variablse, y se desea calcular la probabilidad a posteriori de que este resultado indique que el paciente tiene **psoriasis**. "
   ]
  },
  {
   "cell_type": "code",
   "execution_count": 109,
   "metadata": {},
   "outputs": [],
   "source": [
    "variables_considered = ['itching','parakeratosis','spongiosis']\n",
    "sample_of_variables = [2, 2, 3]"
   ]
  },
  {
   "cell_type": "markdown",
   "metadata": {},
   "source": [
    "Comenzamos calculando la probabilidad condicional de cada observación para cada patología (probabilidad de obtener ese grado de variable en un paciente con esa patología)"
   ]
  },
  {
   "cell_type": "code",
   "execution_count": 123,
   "metadata": {},
   "outputs": [
    {
     "name": "stdout",
     "output_type": "stream",
     "text": [
      "psoriasis con itching=2: 0.5776287711690937\n",
      "psoriasis con parakeratosis=2: 0.6055433758596596\n",
      "psoriasis con spongiosis=3: 0.20759825275121432\n",
      "seboreic dermatitis con itching=2: 0.5898567396862512\n",
      "seboreic dermatitis con parakeratosis=2: 0.7284144767477038\n",
      "seboreic dermatitis con spongiosis=3: 0.019370076085322065\n",
      "lichen planus con itching=2: 0.6592809043808283\n",
      "lichen planus con parakeratosis=2: 0.5146530598352851\n",
      "lichen planus con spongiosis=3: 0.24155798825956407\n",
      "pityriasis rosea con itching=2: 0.6704115612657748\n",
      "pityriasis rosea con parakeratosis=2: 0.4935669390165488\n",
      "pityriasis rosea con spongiosis=3: 0.024151768744608487\n",
      "cronic dermatitis con itching=2: 0.45025250208019996\n",
      "cronic dermatitis con parakeratosis=2: 0.24550913972543523\n",
      "cronic dermatitis con spongiosis=3: 0.024512157547667217\n",
      "pityriasis rubra pilaris con itching=2: 0.7778583726196552\n",
      "pityriasis rubra pilaris con parakeratosis=2: 0.7664925525108743\n",
      "pityriasis rubra pilaris con spongiosis=3: 0.019402344407000536\n"
     ]
    }
   ],
   "source": [
    "probs_condicionales = np.zeros((len(pathology_names),len(variables_considered)))\n",
    "for p,pathology in enumerate(pathology_names):\n",
    "    for i,variable in enumerate(variables_considered):\n",
    "        mean_var_path = data_variables[data_targets==p+1,i].mean(axis=0) \n",
    "        std_var_path = np.sqrt(data_variables[data_targets==p+1,i].var(axis=0,ddof=1))        \n",
    "        probs_condicionales[p,i]=gaussian(sample_of_variables[i],mean_var_path,std_var_path)\n",
    "        print(pathology +' con '+ variable + '=' + str(sample_of_variables[i]) + ': '+ str(probs_condicionales[p,i]))\n",
    "        "
   ]
  },
  {
   "cell_type": "markdown",
   "metadata": {},
   "source": [
    "¿Cuál es el likelihood de esta observación para psoriasis? Si asumimos que las tres variables consideradas son independientes, podemos decir que la probabilidad conjunta condicional de estas tres observaciones es el producto de las tres probabilidades condicionales. "
   ]
  },
  {
   "cell_type": "code",
   "execution_count": 127,
   "metadata": {},
   "outputs": [
    {
     "name": "stdout",
     "output_type": "stream",
     "text": [
      "Probabilidad a posteriori de psoriasis:  0.022220544959576025\n"
     ]
    }
   ],
   "source": [
    "likelihood_psoriasis = apriori_dict['psoriasis']*probs_condicionales[0,0]*probs_condicionales[0,1]*probs_condicionales[0,2]\n",
    "print(\"Probabilidad a posteriori de psoriasis: \",likelihood_psoriasis)"
   ]
  },
  {
   "cell_type": "markdown",
   "metadata": {},
   "source": [
    "Notar que no hace falta calcular el denominador"
   ]
  },
  {
   "cell_type": "markdown",
   "metadata": {},
   "source": [
    "En este caso nuestras seis patologías se corresponden a seis modelos generadores. ¿Cuál es el modelo generador con mayor likelihood para esta observación de tres variables? Es decir, ¿cuál es la patología más probable para este paciente?"
   ]
  },
  {
   "cell_type": "code",
   "execution_count": null,
   "metadata": {},
   "outputs": [],
   "source": [
    "[...te toca implementar]"
   ]
  },
  {
   "cell_type": "markdown",
   "metadata": {},
   "source": [
    "**Utilizando sklearn**"
   ]
  },
  {
   "cell_type": "code",
   "execution_count": 128,
   "metadata": {},
   "outputs": [],
   "source": [
    "\n",
    "from sklearn.naive_bayes import GaussianNB\n",
    "gnb = GaussianNB()\n",
    "model = gnb.fit(data_variables, data_targets)\n"
   ]
  },
  {
   "cell_type": "markdown",
   "metadata": {},
   "source": [
    "Investigá en la documentación qué son los atributos sigma_ y theta_ de un objeto GaussianNB. Usando estos atributos, graficá nuevamente las distribuciones normales de cada patología para la variable 'itching' "
   ]
  },
  {
   "cell_type": "code",
   "execution_count": null,
   "metadata": {},
   "outputs": [],
   "source": [
    "[...te toca implementar]"
   ]
  },
  {
   "cell_type": "markdown",
   "metadata": {},
   "source": [
    "**División de sets de datos**"
   ]
  },
  {
   "cell_type": "markdown",
   "metadata": {},
   "source": [
    "Para evaluar si el ajuste de nuestro modelo es bueno, dividiremos el set de pacientes en entrenamiento y test."
   ]
  },
  {
   "cell_type": "code",
   "execution_count": 134,
   "metadata": {},
   "outputs": [
    {
     "name": "stdout",
     "output_type": "stream",
     "text": [
      "Total de muestras: 366\n",
      "Muestras de entrenamiento: 292\n",
      "Muestras de prueba: 74\n"
     ]
    }
   ],
   "source": [
    "from sklearn.model_selection import train_test_split\n",
    "\n",
    "print(\"Total de muestras: \" + str(len(data_targets)))\n",
    "TEST_PERCENTAGE=0.2\n",
    "X_train, X_test, y_train, y_test = train_test_split(data_variables, data_targets, test_size=TEST_PERCENTAGE, random_state=4) \n",
    "#Investigá: qué utilidad tiene aclarar el random_state?\n",
    "\n",
    "print(\"Muestras de entrenamiento: \" + str(len(y_train)))\n",
    "\n",
    "print(\"Muestras de prueba: \" + str(len(y_test)))\n",
    "\n"
   ]
  },
  {
   "cell_type": "code",
   "execution_count": 135,
   "metadata": {},
   "outputs": [],
   "source": [
    "gnb = GaussianNB()\n",
    "model = gnb.fit(X_train, y_train)"
   ]
  },
  {
   "cell_type": "code",
   "execution_count": 136,
   "metadata": {},
   "outputs": [],
   "source": [
    "predictions = model.predict(X_test)"
   ]
  },
  {
   "cell_type": "markdown",
   "metadata": {},
   "source": [
    "¿Cuál es el porcentaje de lesiones clasificadas correctamente?"
   ]
  },
  {
   "cell_type": "code",
   "execution_count": null,
   "metadata": {},
   "outputs": [],
   "source": [
    "[...te toca implementar]"
   ]
  },
  {
   "cell_type": "markdown",
   "metadata": {},
   "source": [
    "**Búsqueda de hiperpárametros** \n",
    "\n",
    "La constante de smoothing se define como una proporción de la mayor varianza encontrada en la distribución de variables, y se sumará a todas las varianzas para estabilizar el proceso de ajuste. Por ejemplo, tomando var_smoothin=1e-1:\n"
   ]
  },
  {
   "cell_type": "code",
   "execution_count": 1,
   "metadata": {},
   "outputs": [
    {
     "ename": "NameError",
     "evalue": "name 'GaussianNB' is not defined",
     "output_type": "error",
     "traceback": [
      "\u001b[1;31m---------------------------------------------------------------------------\u001b[0m",
      "\u001b[1;31mNameError\u001b[0m                                 Traceback (most recent call last)",
      "\u001b[1;32m<ipython-input-1-bc265af16ff2>\u001b[0m in \u001b[0;36m<module>\u001b[1;34m\u001b[0m\n\u001b[1;32m----> 1\u001b[1;33m \u001b[0mgnb\u001b[0m \u001b[1;33m=\u001b[0m \u001b[0mGaussianNB\u001b[0m\u001b[1;33m(\u001b[0m\u001b[0mvar_smoothing\u001b[0m\u001b[1;33m=\u001b[0m\u001b[1;36m1e-1\u001b[0m\u001b[1;33m)\u001b[0m\u001b[1;33m\u001b[0m\u001b[1;33m\u001b[0m\u001b[0m\n\u001b[0m\u001b[0;32m      2\u001b[0m \u001b[0mmodel\u001b[0m \u001b[1;33m=\u001b[0m \u001b[0mgnb\u001b[0m\u001b[1;33m.\u001b[0m\u001b[0mfit\u001b[0m\u001b[1;33m(\u001b[0m\u001b[0mX_train\u001b[0m\u001b[1;33m,\u001b[0m \u001b[0my_train\u001b[0m\u001b[1;33m)\u001b[0m\u001b[1;33m\u001b[0m\u001b[1;33m\u001b[0m\u001b[0m\n\u001b[0;32m      3\u001b[0m \u001b[0my_pred\u001b[0m \u001b[1;33m=\u001b[0m \u001b[0mmodel\u001b[0m\u001b[1;33m.\u001b[0m\u001b[0mpredict\u001b[0m\u001b[1;33m(\u001b[0m\u001b[0mX_test\u001b[0m\u001b[1;33m)\u001b[0m\u001b[1;33m\u001b[0m\u001b[1;33m\u001b[0m\u001b[0m\n\u001b[0;32m      4\u001b[0m \u001b[0mporc\u001b[0m\u001b[1;33m=\u001b[0m\u001b[0msum\u001b[0m\u001b[1;33m(\u001b[0m\u001b[0my_pred\u001b[0m\u001b[1;33m==\u001b[0m\u001b[0my_test\u001b[0m\u001b[1;33m)\u001b[0m\u001b[1;33m/\u001b[0m\u001b[0my_test\u001b[0m\u001b[1;33m.\u001b[0m\u001b[0mshape\u001b[0m\u001b[1;33m[\u001b[0m\u001b[1;36m0\u001b[0m\u001b[1;33m]\u001b[0m\u001b[1;33m*\u001b[0m\u001b[1;36m100\u001b[0m\u001b[1;33m\u001b[0m\u001b[1;33m\u001b[0m\u001b[0m\n\u001b[0;32m      5\u001b[0m \u001b[0mprint\u001b[0m\u001b[1;33m(\u001b[0m\u001b[1;34m\"El porcentaje de lesiones clasificados correctamente es: {}%\"\u001b[0m\u001b[1;33m.\u001b[0m\u001b[0mformat\u001b[0m\u001b[1;33m(\u001b[0m\u001b[0mporc\u001b[0m\u001b[1;33m)\u001b[0m\u001b[1;33m)\u001b[0m\u001b[1;33m\u001b[0m\u001b[1;33m\u001b[0m\u001b[0m\n",
      "\u001b[1;31mNameError\u001b[0m: name 'GaussianNB' is not defined"
     ]
    }
   ],
   "source": [
    "gnb = GaussianNB(var_smoothing=1e-1)\n",
    "model = gnb.fit(X_train, y_train)\n",
    "y_pred = model.predict(X_test)\n",
    "porc=sum(y_pred==y_test)/y_test.shape[0]*100\n",
    "print(\"El porcentaje de lesiones clasificados correctamente es: {}%\".format(porc))\n"
   ]
  },
  {
   "cell_type": "markdown",
   "metadata": {},
   "source": [
    "--------------------------------------------------------------------------------------------------\n",
    "Buscaremos optimizar el valor de var_smoothing. Para eso, necesitamos volver a dividir el set de entrenamiento, para tener un set de entrenamiento y un set de validación. \n"
   ]
  },
  {
   "cell_type": "code",
   "execution_count": null,
   "metadata": {},
   "outputs": [],
   "source": [
    "X_train_nuevo, X_val, y_train_nuevo, y_val = [...te toca implementar]"
   ]
  },
  {
   "cell_type": "markdown",
   "metadata": {},
   "source": [
    "Calcular el porcentaje de lesiones clasificadas correctamente para los siguientes valores de var_smoothing, ajustando el modelo en el set de entrenamiento y evaluando en el set de validación. \n",
    "\n",
    "-  1e-3\n",
    "-  1e-5\n",
    "-  1e-7\n",
    "-  1e-9\n",
    "-  1e-11\n",
    "-  1e-13"
   ]
  },
  {
   "cell_type": "code",
   "execution_count": null,
   "metadata": {},
   "outputs": [],
   "source": [
    "[...te toca implementar]"
   ]
  },
  {
   "cell_type": "markdown",
   "metadata": {},
   "source": [
    "Con el var_smoothing que mejor desempeño tuvo en validación, ajusta un modelo usando el conjunto combinado del set de entrenamiento y validación. Luego, evaluá este modelo en el set de testeo. ¿Cuál es el porcentaje de predicciones correctas?"
   ]
  },
  {
   "cell_type": "code",
   "execution_count": null,
   "metadata": {},
   "outputs": [],
   "source": [
    "[...te toca implementar]"
   ]
  },
  {
   "cell_type": "markdown",
   "metadata": {},
   "source": [
    "Dado que tenemos seis patologías, si deseamos hacer una matriz de confusión tendremos una matriz de 6x6. Si guardás las predicciones de tu modelo en test en una variable y_pred, podés calcular la matriz como:"
   ]
  },
  {
   "cell_type": "code",
   "execution_count": null,
   "metadata": {},
   "outputs": [],
   "source": [
    "from sklearn.metrics import confusion_matrix\n",
    "\n",
    "cf=confusion_matrix(y_test, y_pred, labels=pathology_names)\n",
    "print(cf)"
   ]
  },
  {
   "cell_type": "markdown",
   "metadata": {},
   "source": [
    "Si nos enfocamos en una patología, podemos calcular las métricas del test diagnóstico: sensibilidad, especificidad, valor predictivo positivo y valor predictivo negativo. Si elegimos por ejemplo psoarisis, podemos mapear los diagnósticos a dos salidas: positivo o negativo para psoarisis. "
   ]
  },
  {
   "cell_type": "code",
   "execution_count": null,
   "metadata": {},
   "outputs": [],
   "source": [
    "targets_ps = np.where(data.targets!=0, 1, data.targets)"
   ]
  },
  {
   "cell_type": "markdown",
   "metadata": {},
   "source": [
    "--------------------------------------------------------------------------------------------------\n",
    "Las variables son tanto histopatológicas (requieren de una biopsia) como clínicas. ¿Qué pasa si tomamos sólo los factores clínicos? Ajustá un modelo GaussianNB únicamente a las variables clínicas, y calculá las predicciones para el set de testeo usando también sólo variables clínicas. "
   ]
  },
  {
   "cell_type": "code",
   "execution_count": null,
   "metadata": {},
   "outputs": [],
   "source": [
    "[...te toca implementar]"
   ]
  },
  {
   "cell_type": "markdown",
   "metadata": {},
   "source": [
    "--------------------------------------------------------------------------------------------------\n",
    "\n",
    "¿El mismo var_smoothing sigue siendo el más óptimo? Encontrá cual es el mejor var_smoothing cuando el modelo sólo considera variables clínicas "
   ]
  },
  {
   "cell_type": "code",
   "execution_count": null,
   "metadata": {},
   "outputs": [],
   "source": [
    "[...te toca implementar]"
   ]
  },
  {
   "cell_type": "markdown",
   "metadata": {},
   "source": [
    "--------------------------------------------------------------------------------------------------\n",
    "¿Y si tomamos sólo los factores histopatológicos? ¿El mismo var_smoothing sigue siendo el más óptimo?"
   ]
  },
  {
   "cell_type": "code",
   "execution_count": null,
   "metadata": {},
   "outputs": [],
   "source": [
    "[...te toca implementar]"
   ]
  },
  {
   "cell_type": "markdown",
   "metadata": {},
   "source": [
    "--------------------------------------------------------------------------------------------------\n",
    "\n",
    "¿Qué modelo recomendarías? ¿Cuál creés que preferiría el dermatólogo?\n"
   ]
  },
  {
   "cell_type": "code",
   "execution_count": null,
   "metadata": {},
   "outputs": [],
   "source": []
  }
 ],
 "metadata": {
  "kernelspec": {
   "display_name": "Python 3",
   "language": "python",
   "name": "python3"
  },
  "language_info": {
   "codemirror_mode": {
    "name": "ipython",
    "version": 3
   },
   "file_extension": ".py",
   "mimetype": "text/x-python",
   "name": "python",
   "nbconvert_exporter": "python",
   "pygments_lexer": "ipython3",
   "version": "3.7.2"
  }
 },
 "nbformat": 4,
 "nbformat_minor": 2
}
